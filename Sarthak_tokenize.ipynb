{
  "nbformat": 4,
  "nbformat_minor": 0,
  "metadata": {
    "colab": {
      "provenance": [],
      "authorship_tag": "ABX9TyOlIuwMEZDHGdGIothbxCFx",
      "include_colab_link": true
    },
    "kernelspec": {
      "name": "python3",
      "display_name": "Python 3"
    },
    "language_info": {
      "name": "python"
    }
  },
  "cells": [
    {
      "cell_type": "markdown",
      "metadata": {
        "id": "view-in-github",
        "colab_type": "text"
      },
      "source": [
        "<a href=\"https://colab.research.google.com/github/aganjasarthak/from_scratch/blob/main/Sarthak_tokenize.ipynb\" target=\"_parent\"><img src=\"https://colab.research.google.com/assets/colab-badge.svg\" alt=\"Open In Colab\"/></a>"
      ]
    },
    {
      "cell_type": "code",
      "execution_count": 6,
      "metadata": {
        "colab": {
          "base_uri": "https://localhost:8080/"
        },
        "id": "dngyxUwiPOiT",
        "outputId": "c65b6aa2-1638-4230-cd8d-4f8bf6cf32f9"
      },
      "outputs": [
        {
          "output_type": "stream",
          "name": "stdout",
          "text": [
            "Requirement already satisfied: nltk in /usr/local/lib/python3.10/dist-packages (3.9.1)\n",
            "Requirement already satisfied: click in /usr/local/lib/python3.10/dist-packages (from nltk) (8.1.7)\n",
            "Requirement already satisfied: joblib in /usr/local/lib/python3.10/dist-packages (from nltk) (1.4.2)\n",
            "Requirement already satisfied: regex>=2021.8.3 in /usr/local/lib/python3.10/dist-packages (from nltk) (2024.11.6)\n",
            "Requirement already satisfied: tqdm in /usr/local/lib/python3.10/dist-packages (from nltk) (4.67.1)\n",
            "Sentence 1: Artificial intelligence is evolving rapidly, and its applications are becoming more diverse.\n",
            "Tokenized Words 1: ['Artificial', 'intelligence', 'is', 'evolving', 'rapidly', ',', 'and', 'its', 'applications', 'are', 'becoming', 'more', 'diverse', '.']\n",
            "\n",
            "helo\n",
            "Sentence 2: Machine learning models require vast amounts of data to train effectively.\n",
            "Tokenized Words 2: ['Machine', 'learning', 'models', 'require', 'vast', 'amounts', 'of', 'data', 'to', 'train', 'effectively', '.']\n",
            "\n",
            "helo\n",
            "Sentence 3: Natural language processing enables machines to understand and generate human language.\n",
            "Tokenized Words 3: ['Natural', 'language', 'processing', 'enables', 'machines', 'to', 'understand', 'and', 'generate', 'human', 'language', '.']\n",
            "\n",
            "helo\n",
            "Sentence 4: Despite its potential, AI poses ethical challenges, including biases and privacy concerns.\n",
            "Tokenized Words 4: ['Despite', 'its', 'potential', ',', 'AI', 'poses', 'ethical', 'challenges', ',', 'including', 'biases', 'and', 'privacy', 'concerns', '.']\n",
            "\n",
            "helo\n",
            "Sentence 5: Robots powered by AI are now being used in industries like healthcare and manufacturing.\n",
            "Tokenized Words 5: ['Robots', 'powered', 'by', 'AI', 'are', 'now', 'being', 'used', 'in', 'industries', 'like', 'healthcare', 'and', 'manufacturing', '.']\n",
            "\n",
            "helo\n",
            "Sentence 6: Self-driving cars rely on AI algorithms to navigate roads and make real-time decisions.\n",
            "Tokenized Words 6: ['Self-driving', 'cars', 'rely', 'on', 'AI', 'algorithms', 'to', 'navigate', 'roads', 'and', 'make', 'real-time', 'decisions', '.']\n",
            "\n",
            "helo\n",
            "Sentence 7: Deep learning techniques have revolutionized fields such as image recognition and speech processing.\n",
            "Tokenized Words 7: ['Deep', 'learning', 'techniques', 'have', 'revolutionized', 'fields', 'such', 'as', 'image', 'recognition', 'and', 'speech', 'processing', '.']\n",
            "\n",
            "helo\n",
            "Sentence 8: AI in education promises personalized learning experiences for students of all ages.\n",
            "Tokenized Words 8: ['AI', 'in', 'education', 'promises', 'personalized', 'learning', 'experiences', 'for', 'students', 'of', 'all', 'ages', '.']\n",
            "\n",
            "helo\n",
            "Sentence 9: Scientists are exploring the use of AI to predict natural disasters and mitigate risks.\n",
            "Tokenized Words 9: ['Scientists', 'are', 'exploring', 'the', 'use', 'of', 'AI', 'to', 'predict', 'natural', 'disasters', 'and', 'mitigate', 'risks', '.']\n",
            "\n",
            "helo\n",
            "Sentence 10: Collaboration between humans and AI is paving the way for innovative solutions to global challenges.\n",
            "Tokenized Words 10: ['Collaboration', 'between', 'humans', 'and', 'AI', 'is', 'paving', 'the', 'way', 'for', 'innovative', 'solutions', 'to', 'global', 'challenges', '.']\n",
            "\n",
            "helo\n",
            "helo\n"
          ]
        },
        {
          "output_type": "stream",
          "name": "stderr",
          "text": [
            "[nltk_data] Downloading package punkt to /root/nltk_data...\n",
            "[nltk_data]   Package punkt is already up-to-date!\n",
            "[nltk_data] Downloading package punkt_tab to /root/nltk_data...\n",
            "[nltk_data]   Package punkt_tab is already up-to-date!\n"
          ]
        }
      ],
      "source": [
        "!pip install nltk\n",
        "\n",
        "import nltk\n",
        "from nltk.tokenize import word_tokenize\n",
        "\n",
        "# Download necessary data for tokenization\n",
        "nltk.download('punkt')\n",
        "nltk.download('punkt_tab')\n",
        "\n",
        "# List of complex sentences\n",
        "complex_sentences = [\n",
        "    \"Artificial intelligence is evolving rapidly, and its applications are becoming more diverse.\",\n",
        "    \"Machine learning models require vast amounts of data to train effectively.\",\n",
        "    \"Natural language processing enables machines to understand and generate human language.\",\n",
        "    \"Despite its potential, AI poses ethical challenges, including biases and privacy concerns.\",\n",
        "    \"Robots powered by AI are now being used in industries like healthcare and manufacturing.\",\n",
        "    \"Self-driving cars rely on AI algorithms to navigate roads and make real-time decisions.\",\n",
        "    \"Deep learning techniques have revolutionized fields such as image recognition and speech processing.\",\n",
        "    \"AI in education promises personalized learning experiences for students of all ages.\",\n",
        "    \"Scientists are exploring the use of AI to predict natural disasters and mitigate risks.\",\n",
        "    \"Collaboration between humans and AI is paving the way for innovative solutions to global challenges.\"\n",
        "]\n",
        "\n",
        "\n",
        "tokenized_sentences = [word_tokenize(sentence) for sentence in complex_sentences]\n",
        "\n",
        "\n",
        "for i, tokens in enumerate(tokenized_sentences, 1):\n",
        "    print(f\"Sentence {i}: {complex_sentences[i-1]}\")\n",
        "    print(f\"Tokenized Words {i}: {tokens}\")\n",
        "    print()\n",
        "    print(\"helo\")\n",
        "\n",
        "\n",
        "print(\"helo\")\n",
        "\n"
      ]
    }
  ]
}