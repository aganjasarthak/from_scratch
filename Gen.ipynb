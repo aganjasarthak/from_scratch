{
  "nbformat": 4,
  "nbformat_minor": 0,
  "metadata": {
    "colab": {
      "provenance": [],
      "authorship_tag": "ABX9TyMjCtyx22WX0AO0sXRD9Vw8",
      "include_colab_link": true
    },
    "kernelspec": {
      "name": "python3",
      "display_name": "Python 3"
    },
    "language_info": {
      "name": "python"
    }
  },
  "cells": [
    {
      "cell_type": "markdown",
      "metadata": {
        "id": "view-in-github",
        "colab_type": "text"
      },
      "source": [
        "<a href=\"https://colab.research.google.com/github/aganjasarthak/from_scratch/blob/main/Gen.ipynb\" target=\"_parent\"><img src=\"https://colab.research.google.com/assets/colab-badge.svg\" alt=\"Open In Colab\"/></a>"
      ]
    },
    {
      "cell_type": "code",
      "execution_count": 1,
      "metadata": {
        "colab": {
          "base_uri": "https://localhost:8080/"
        },
        "id": "Zn1pwSuEzvf5",
        "outputId": "22868441-74af-4c2d-fe03-251f13a09096"
      },
      "outputs": [
        {
          "output_type": "stream",
          "name": "stdout",
          "text": [
            "Total combinations: 56\n",
            "('x0', 'x1', 'x2')\n",
            "('x0', 'x1', 'x3')\n",
            "('x0', 'x1', 'x4')\n",
            "('x0', 'x1', 'x5')\n",
            "('x0', 'x1', 'x6')\n",
            "('x0', 'x1', 'x7')\n",
            "('x0', 'x2', 'x3')\n",
            "('x0', 'x2', 'x4')\n",
            "('x0', 'x2', 'x5')\n",
            "('x0', 'x2', 'x6')\n",
            "('x0', 'x2', 'x7')\n",
            "('x0', 'x3', 'x4')\n",
            "('x0', 'x3', 'x5')\n",
            "('x0', 'x3', 'x6')\n",
            "('x0', 'x3', 'x7')\n",
            "('x0', 'x4', 'x5')\n",
            "('x0', 'x4', 'x6')\n",
            "('x0', 'x4', 'x7')\n",
            "('x0', 'x5', 'x6')\n",
            "('x0', 'x5', 'x7')\n",
            "('x0', 'x6', 'x7')\n",
            "('x1', 'x2', 'x3')\n",
            "('x1', 'x2', 'x4')\n",
            "('x1', 'x2', 'x5')\n",
            "('x1', 'x2', 'x6')\n",
            "('x1', 'x2', 'x7')\n",
            "('x1', 'x3', 'x4')\n",
            "('x1', 'x3', 'x5')\n",
            "('x1', 'x3', 'x6')\n",
            "('x1', 'x3', 'x7')\n",
            "('x1', 'x4', 'x5')\n",
            "('x1', 'x4', 'x6')\n",
            "('x1', 'x4', 'x7')\n",
            "('x1', 'x5', 'x6')\n",
            "('x1', 'x5', 'x7')\n",
            "('x1', 'x6', 'x7')\n",
            "('x2', 'x3', 'x4')\n",
            "('x2', 'x3', 'x5')\n",
            "('x2', 'x3', 'x6')\n",
            "('x2', 'x3', 'x7')\n",
            "('x2', 'x4', 'x5')\n",
            "('x2', 'x4', 'x6')\n",
            "('x2', 'x4', 'x7')\n",
            "('x2', 'x5', 'x6')\n",
            "('x2', 'x5', 'x7')\n",
            "('x2', 'x6', 'x7')\n",
            "('x3', 'x4', 'x5')\n",
            "('x3', 'x4', 'x6')\n",
            "('x3', 'x4', 'x7')\n",
            "('x3', 'x5', 'x6')\n",
            "('x3', 'x5', 'x7')\n",
            "('x3', 'x6', 'x7')\n",
            "('x4', 'x5', 'x6')\n",
            "('x4', 'x5', 'x7')\n",
            "('x4', 'x6', 'x7')\n",
            "('x5', 'x6', 'x7')\n"
          ]
        }
      ],
      "source": [
        "\n",
        "import itertools\n",
        "\n",
        "# List of 8 input variable names\n",
        "input_variables = ['x0', 'x1', 'x2', 'x3', 'x4', 'x5', 'x6', 'x7']\n",
        "\n",
        "# Generate all combinations of 3 variables\n",
        "combinations = list(itertools.combinations(input_variables, 3))\n",
        "\n",
        "# Display the combinations\n",
        "print(f\"Total combinations: {len(combinations)}\")\n",
        "for subset in combinations:\n",
        "    print(subset)"
      ]
    }
  ]
}